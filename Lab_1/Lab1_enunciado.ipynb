{
  "cells": [
    {
      "cell_type": "markdown",
      "metadata": {
        "cell_id": "097fce6dce21405c911254a775ae3d26",
        "deepnote_cell_type": "markdown",
        "id": "J4_IcuuKZj9Y"
      },
      "source": [
        "<h1><center>Laboratorio 1: Git 👾</center></h1>\n",
        "\n",
        "<center><strong>MDS7202: Laboratorio de Programación Científica para Ciencia de Datos - Primavera 2024</strong></center>"
      ]
    },
    {
      "cell_type": "markdown",
      "metadata": {
        "cell_id": "9e8e8f2ae34e461da4f44508a96d2cf4",
        "deepnote_cell_type": "markdown",
        "id": "AEXIACc7aADv"
      },
      "source": [
        "### Cuerpo Docente:\n",
        "\n",
        "- Profesores: Ignacio Meza, Sebastián Tinoco\n",
        "- Auxiliar: Eduardo Moya\n",
        "- Ayudantes: Nicolás Ojeda, Melanie Peña, Valentina Rojas"
      ]
    },
    {
      "cell_type": "markdown",
      "metadata": {
        "cell_id": "3e5b48c23e1b48f6a64de41899166179",
        "deepnote_cell_type": "markdown",
        "id": "0HgMMyoCaG8X"
      },
      "source": [
        "### Equipo: **SUPER IMPORTANTE - notebooks sin nombre no serán revisados**\n",
        "\n",
        "- Nombre de alumno 1: Nicolás Herrera\n",
        "- Nombre de alumno 2: Lucas Carrasco "
      ]
    },
    {
      "cell_type": "markdown",
      "metadata": {
        "cell_id": "1db7c82b68614d19b112ba3b0d0abe4d",
        "deepnote_cell_type": "markdown",
        "id": "fz77X6glaK6y"
      },
      "source": [
        "### **Link de repositorio de GitHub:** [Enlace repositorio](https://github.com/vspartamo/MDS7202)"
      ]
    },
    {
      "cell_type": "markdown",
      "metadata": {
        "cell_id": "bc3dac65089d4ae6a43c079547dee179",
        "deepnote_cell_type": "markdown",
        "id": "rRwqaxIZaNx3"
      },
      "source": [
        "## Reglas:\n",
        "\n",
        "- **Grupos de 2 personas**\n",
        "- Fecha de entrega: 6 días de plazo con descuento de 1 punto por día. Entregas Jueves a las 23:59.\n",
        "- Instrucciones del lab el viernes a las 16:15 en formato online. Asistencia no es obligatoria.\n",
        "- <u>Prohibidas las copias</u>. Cualquier intento de copia será debidamente penalizado con el reglamento de la escuela.\n",
        "- Tienen que subir el laboratorio a u-cursos y a su repositorio de github. Labs que no estén en u-cursos no serán revisados. Recuerden que el repositorio también tiene nota.\n",
        "- Cualquier duda fuera del horario de clases al foro. Mensajes al equipo docente serán respondidos por este medio.\n",
        "- Pueden usar cualquier material del curso que estimen conveniente."
      ]
    },
    {
      "cell_type": "markdown",
      "metadata": {
        "cell_id": "05e4729411a24153837fd13b7f198bd9",
        "deepnote_cell_type": "markdown",
        "id": "bmToL27JaSrf"
      },
      "source": [
        "## Objetivos del lab:\n",
        "\n",
        "\n",
        "- Conocer los elementos básicos que conformar `Git`\n",
        "- Clonar repositorios\n",
        "- Identificar ramas de un repositorio\n",
        "- Reconocer y solucionar problemas entre ramas\n",
        "- Subir cambios a un repositorio"
      ]
    },
    {
      "cell_type": "markdown",
      "metadata": {
        "cell_id": "5ebae9d601bd4d508349ab55297e9f82",
        "deepnote_cell_type": "markdown",
        "id": "bvnPCvrVbJLK"
      },
      "source": [
        "## Parte 1: Conocimiento Teórico (2.5 pts)\n",
        "\n",
        "<p align=\"center\">\n",
        "  <img src=\"https://cdn.thedesigninspiration.com/wp-content/uploads/sites/3/2019/04/macintosh-hdusersbrittanyloefflerdownloadsanig-1.gif\" width=\"350\">\n",
        "</p>"
      ]
    },
    {
      "cell_type": "markdown",
      "metadata": {
        "cell_id": "627494dba4f84520b3ee8b9cbf58ee79",
        "deepnote_cell_type": "markdown",
        "id": "JHl-24XnbNLF"
      },
      "source": [
        "Responda las siguientes preguntas (0.2 pts c/u):\n",
        "\n",
        "1. ¿Qué es `Git` y cómo se relaciona con el control de versiones?\n",
        "\n",
        "2. Nombre y explique 3 diferencias entre `Git` y `Github`.\n",
        "\n",
        "3. ¿Qué es un `hash` y cómo se representa en un `commit`? De un ejemplo.\n",
        "\n",
        "4. ¿Que elementos componen a la estructura de datos de `Git`?\n",
        "\n",
        "5. ¿Que comandos de `Git` sirven para crear un repositorio y hacer seguimiento a cambios en los archivos?"
      ]
    },
    {
      "cell_type": "markdown",
      "metadata": {
        "cell_id": "6d06c40f429044a298b27c666f51f46f",
        "deepnote_cell_type": "markdown",
        "id": "2tXCSkf0caG8"
      },
      "source": [
        "<code>Escriba sus respuestas acá:</code>\n",
        "\n",
        "1. git es un software cuyo objetivo es ayudar a registrar los cambios realizados en un proyecto, en particular, es un Sistema de Control de Versiones Distribuido (DVCS). Se relaciona con el control de versiones de un proyecto mediante repositorios, los cuales pueden ser locales o remotos (en el caso de ser remoto, se crea una copia local de este). En tal repositorio git creará una carpeta llamada \".git\" que es la encargada de rastrear y administrar los cambios hechos en los archivos presentes en la ubicación.\n",
        "\n",
        "2. - git es un software, Github es un servicio de alojamiento basado en web: git se ejecuta localmente, mientras que Github  es una plataforma web que facilita la \n",
        "     colaboración entre desarrolladores de manera remota.\n",
        "\n",
        "   - git es una herramienta de línea de comando, es decir, git se utiliza mediante la consola para poder ejecutar acciones sobre el repositorio que se esté trabajando, por su parte, Github entrega una interfaz gráfica tanto para alguna de esas acciones como para otras distintas.\n",
        "\n",
        "   - git crea un repositorio local para realizar seguimiento a los cambios en él, Github es usado para subir copias de repositorios.\n",
        "3. Un hash es un número que actúa como índice o identificador para, en este caso, un commit, de modo que cada commit tenga un número de hash único, y con ello se pueda acceder a la snapshot asociada al commit. En un commit se representa mediante un número de 40 caracteres hexadecimales (base 16), por lo que estos pueden contener cifras desde 0 al 9 y letras desde la a hasta la f. Ejemplo: El commit inicial del repositorio de la parte práctica es c8b1a62d7299552b0654f930d695b33109214111\n",
        "\n",
        "4. Los elementos que la componen son: 1. Blobs: objetos que almacenan el contenido de un archivo. 2. Trees: objetos que trabajan como almacenes de blob a través de punteros, osea, poseen punteros que apuntan a los hash de los blobs. 3. Commits: objetos que capturan el estado de uno o más archivos en un momento dado, guardándose así información del autor, mensaje, commits anterior y posterior, etc.\n",
        "\n",
        "5. Para crear un repositorio con git se puede hacer mediante el comando git clone < url del repositorio>, o bien, creando un repositorio local con el comando git init. Para hacer seguimiento a los cambios en los archivos se puede usar git add para agregar los cambios a la staging area, luego git commit para registrar los cambios en el repositorio respecto a la snapshot anterior, también es útil el comando git status, que sirve para conocer el estado de los cambios hechos, ya sea para archivos modificados, agregados o eliminados y en qué estado estos se encuentran, por último, git diff hash1 hash2, retorna los cambios existentes entre la snapshot hecha en el commit1 y el commit2."
      ]
    },
    {
      "cell_type": "markdown",
      "metadata": {
        "cell_id": "ec9855406e324cc98b59e33500faea84",
        "deepnote_cell_type": "markdown",
        "id": "MACccbP4gU43"
      },
      "source": [
        "Responda si las siguientes afirmaciones son Verdaderas (V) o Falsas (F). Justifique en **cualquiera** de los casos (0.2 pts c/u):\n",
        "\n",
        "\n",
        "6. `Git` siempre resuelve automáticamente los problemas de lineas al hacer merge entre diferentes ramas.\n",
        "7. Ejecutar `git pull` sobre un repositorio es equivalente a ejecutar `git clone`.\n",
        "8. `git status` genera los mismos resultados que `git log`.\n",
        "9. En `Git` es posible deshacer cambios y volver a versiones anteriores del código.\n",
        "10. El comando `git commit` se utiliza para enviar cambios al repositorio remoto."
      ]
    },
    {
      "cell_type": "markdown",
      "metadata": {
        "cell_id": "7e6a5a6e15b045cc9d104cf017825f1a",
        "deepnote_cell_type": "markdown",
        "id": "DFnmCToOgeM3"
      },
      "source": [
        "<code>Escriba sus respuestas acá:</code>\n",
        "\n",
        "6. Falso, cuando en dos ramas diferentes se sobreescribiría información al hacer merge, git notifica el problema para que se decida qué valores preservar.\n",
        "\n",
        "7. Falso, git pull corresponde a \"tirar/atraer\" los cambios hechos en un repositorio, usualmente se ocupa para actualizar a la versión local los cambios hechos por algún colaborador en el repositorio. En cambio, git clone es para crear un \"clon\" local de todo el repositorio, usualmente se usa al comenzar a trabajar en un repositorio.\n",
        "\n",
        "8. Falso, git status notifica los elementos que fueron cambiados y no están aún en la staging area, los que sí fueron commiteados u otras situaciones del repositorio con respecto a los cambios hechos en él, por su parte, git log muestra el historial de cambios y quienes los ejecutaron.\n",
        "\n",
        "9. Verdadero, esto se puede hacer con el comando git checkout o git reset y con el número de hash al que se quiere volver, en tal caso, todo lo hecho posteriormente a la snapshot no estará presente.\n",
        "\n",
        "10. Falso, git commit se utiliza para hacer cambios en el repositorio local, para hacer cambios en el repositorio remoto se debe ejecutar git push.\n"
      ]
    },
    {
      "cell_type": "markdown",
      "metadata": {
        "cell_id": "54317cad024744ebaf4938df55ba3b95",
        "deepnote_cell_type": "markdown",
        "id": "LYq55sI2Rjf0"
      },
      "source": [
        "Por último, investigue y comente con sus palabras para qué sirven los siguientes comandos:\n",
        "\n",
        "11. `git stash` (0.25 puntos)\n",
        "12. `git reset`. ¿Cuál es la diferencia de este comando con `git revert`?. (0.25 puntos)\n"
      ]
    },
    {
      "cell_type": "markdown",
      "metadata": {},
      "source": [
        "<code>Escriba sus respuestas acá:</code>\n",
        "\n",
        "11. git stash se usa para hacer un guardado \"provisorio\" de los cambios hechos en el repositorio, mantiene los cambios en una pila de almacenamiento.\n",
        "\n",
        "12. git reset corresponde a volver a un commit anterior y eliminar todo lo hecho después de él, de modo que en el historial de cambios no se almacenará lo que se hizo después, es como si nunca hubiera existido. En cambio, con git revert deja rastro de todo lo hecho hasta el momento e indica que se volvió a un commit anterior, de modo que si se sigue el historial de cambios, se podrá ver que se hizo un git revert y continuó el proyecto desde un commit anterior."
      ]
    },
    {
      "cell_type": "markdown",
      "metadata": {
        "cell_id": "3e4d8b9974e4426ca38fd20f4b835a55",
        "deepnote_cell_type": "markdown",
        "id": "i7Em9JkbbRLo"
      },
      "source": [
        "## Parte 2: Creando una presentación personal (1.5 pts)\n",
        "\n",
        "<p align=\"center\">\n",
        "  <img src=\"https://media.tenor.com/arqlNu8gyJYAAAAC/cat-cat-jumping.gif\" width=\"150\">\n",
        "</p>\n",
        "\n"
      ]
    },
    {
      "cell_type": "markdown",
      "metadata": {
        "cell_id": "988648005dba4b9782c6625dfe6ae4ef",
        "deepnote_cell_type": "markdown",
        "id": "XWIHfyrlbYOJ"
      },
      "source": [
        "Para empezar a \"*soltar las manos*\" con `Git`, se les encomienda crear un repositorio con una presentación personal. El repositorio debe contener un breve resumen de quienes son ustedes, sus gustos, experiencias, y cualquier otro detalle interesante que ustedes consideren relevante.\n",
        "\n",
        "Para realizar esto, deben seguir los siguientes pasos:\n",
        "\n",
        "1. Contar con una cuenta de github (1 por persona)\n",
        "2. Crear un repositorio con su nombre de usuario\n",
        "3. Vincular el repositorio a su ambiente local ¿Qué comando(s) me permiten hacer esto?\n",
        "4. Crear un archivo `readme.md` con la información que ustedes deseen compartir.\n",
        "5. Realizar `push` con los cambios generados\n",
        "\n",
        "A modo de ejemplo, pueden guiarse por esta *suculenta* [presentación](https://github.com/Mezosky)\n",
        "\n",
        "**Nota: Deben trabajar todos estos puntos desde su ambiente local**\n",
        "\n",
        "*Hint: Una buena opción es usar templates de presentación personal que encuentren en Google, como los que ofrece este [sitio](https://durgeshsamariya.github.io/awesome-github-profile-readme-templates/#/)*.\n",
        "\n",
        "**Entregable:**\n",
        "\n",
        "Enlace al repositorio con la presentación personal.\n",
        "\n",
        "IMPORTANTE: DEBEN ADJUNTAR UN ENLACE POR PERSONA"
      ]
    },
    {
      "cell_type": "markdown",
      "metadata": {
        "cell_id": "081b38d55dc54282bc8e3cd300ce9d3e",
        "deepnote_cell_type": "markdown",
        "id": "IIkWyl9tf0Sg"
      },
      "source": [
        "<code>Link Presentacion 1:</code> https://github.com/Lucas-CE/Lucas-CE\n",
        "\n",
        "<code>Link Presentacion 2:</code> https://github.com/vspartamo/vspartamo\n",
        "\n",
        "<code>Respuesta pregunta 3:</code> Esto se puede hacer utilizando **git clone** "
      ]
    },
    {
      "cell_type": "markdown",
      "metadata": {
        "cell_id": "0481a05d2d1a46928f6cfb7762720980",
        "deepnote_cell_type": "markdown",
        "id": "CAzXOwvDY-IG"
      },
      "source": [
        "## Parte 3: Trabajando sobre un repositorio externo (2 pts)\n",
        "\n",
        "<p align=\"center\">\n",
        "  <img src=\"https://media.tenor.com/YXL-0SK15j4AAAAC/dance-animals.gif\" width=\"300\">\n",
        "</p>\n",
        "\n",
        "Tras muchos dolores de cabeza, un grupo de entusiastas académicos decidieron aprender sobre `Git` y así trabajar colaborativamente de forma más ordenada y eficiente. Después de una infinidad de intentos y aprender de sus errores \"*a la mala*\", los académicos lograron levantar un [repositorio](https://github.com/MDS7202/lab1) en `Github`. Usando el repositorio de los académicos, responda las siguientes preguntas (**incluya también los comandos en `Git` ocupados**):\n"
      ]
    },
    {
      "cell_type": "markdown",
      "metadata": {
        "cell_id": "bcef73b2e8604579bde90ed6622abfe9",
        "deepnote_cell_type": "markdown",
        "id": "BFRnAw0rfguR"
      },
      "source": [
        "1. Clone el repositorio a su ambiente local. (0.25 pts)"
      ]
    },
    {
      "cell_type": "markdown",
      "metadata": {
        "cell_id": "5d126ac3819c44479af94d3895bc4c97",
        "deepnote_cell_type": "markdown",
        "id": "KXro32yBeilN"
      },
      "source": [
        "<code>Escriba sus respuestas acá:</code>  git clone https://github.com/MDS7202/lab1.git"
      ]
    },
    {
      "cell_type": "markdown",
      "metadata": {
        "cell_id": "e215e4e25b2440f09ac273ba63603986",
        "deepnote_cell_type": "markdown",
        "id": "8QB-GKmQRjf1"
      },
      "source": [
        "2. Descomprima los archivos subidos con la tarea en U-cursos en la carpeta recién clonada de github. Una vez realizado esto, cree un archivo `.gitignore` con el cual omita la carpeta `videos` y los archivos con la extensión `.txt` exceptuando el archivo `171.txt` de la carpeta `texts`. (0.25 pts)"
      ]
    },
    {
      "cell_type": "markdown",
      "metadata": {
        "cell_id": "186233b44d004e3bbd86262d010188b5",
        "deepnote_cell_type": "markdown",
        "id": "7VJ8IIYpRjf1"
      },
      "source": [
        "<code>Para esta pregunta usted deberá adjuntar el .gitignore creado en su repo.</code>\n",
        "\n",
        "Se muestra lo escrito en el gitignore:\n",
        "\n",
        "/videos\n",
        "\n",
        "*.txt\n",
        "\n",
        "!/texts/171.txt\n"
      ]
    },
    {
      "cell_type": "markdown",
      "metadata": {
        "cell_id": "1de150590a41484a988b8e46616a2324",
        "deepnote_cell_type": "markdown",
        "id": "q2qmiDyjt2M_"
      },
      "source": [
        "3. Inspeccione brevemente el repositorio: ¿Cual es el objetivo del proyecto? Explique brevemente la estructura del proyecto, asi como también cada elemento que lo conforma. (0.25 pts)"
      ]
    },
    {
      "cell_type": "markdown",
      "metadata": {
        "cell_id": "082ca01c865e48e28352b280400c47b6",
        "deepnote_cell_type": "markdown",
        "id": "aBHpR8VTftkT"
      },
      "source": [
        "<code>Escriba sus respuestas acá:</code>\n",
        "El objetivo del proyecto es crear scripts que dado ciertos animales (gato, perro y zorro) retorne el sonido que este hace, salvo el caso del zorro en que retorna un enlace a un video de Youtube. El repostorio cuenta con 3 ramas, donde la rama principal (main) cuenta con 2 scripts llamados \"animales.py\" y \"main.py\", la rama \"fix-ifs\" es similar salvo que contiene solo el script \"animales.py\", por último, la rama \"new_features\" que también se encuentra dividida en los 2 scripts antes mencionados."
      ]
    },
    {
      "cell_type": "markdown",
      "metadata": {
        "cell_id": "3aab4a3ee0c246e1be955680ad653fb8",
        "deepnote_cell_type": "markdown",
        "id": "XFwqcpLZfylf"
      },
      "source": [
        "4. Identifique los últimos cambios al repositorio, reconociendo las principales ramas de trabajo. ¿Son informativos los `commit` realizados? (0.25 pts)\n",
        "*Hint: Se recomienda usar los argumentos `all`, `graph` y `decorate`*"
      ]
    },
    {
      "cell_type": "markdown",
      "metadata": {
        "cell_id": "0fab79a360ac4c6a9ca0ab884f85c7e1",
        "deepnote_cell_type": "markdown",
        "id": "cmWfXBkOhog0"
      },
      "source": [
        "<code>Escriba sus respuestas acá:</code>\n",
        "Los últimos cambios al repositorio son los siguientes (obtenidos mediante git log --all --decorate) :\n",
        "\n",
        "En la rama \"fix-ifs\" se escribe el siguiente commit: \n",
        "\n",
        "commit 25543a3baf77292baf849726784ca005473acab1 (origin/fix-ifs)\n",
        "Author: Pablo Badilla <pbadilla.torrealba@gmail.com>\n",
        "Date:   Thu Mar 23 22:50:49 2023 -0300\n",
        "\n",
        "    fix ifs\n",
        "\n",
        "En la rama \"main\" y \"new_features\" se escribe el siguiente commit:\n",
        "\n",
        "commit 362fe21ee44f53ee944cee4ba484600308f83d78 (HEAD -> main, origin/new_features, origin/main, origin/HEAD)\n",
        "Author: mezosky <ignacio.meza@ug.uchile.cl>\n",
        "Date:   Thu Mar 23 21:47:34 2023 -0300\n",
        "\n",
        "    Se separa el proyecto en modulos\n",
        "\n",
        "En la rama \"main\"  (probablemente, antes de crear las otras ramas) se escribe los commit:\n",
        "\n",
        "commit c8b1a62d7299552b0654f930d695b33109214111\n",
        "Author: seba <stinoco@fen.uchile.cl>\n",
        "Date:   Wed Mar 22 17:28:19 2023 -0300\n",
        "\n",
        "    se agrega funcion\n",
        "\n",
        "commit b262d86411a6b017e99bf0731e33a6787739247c\n",
        "Author: seba <stinoco@fen.uchile.cl>\n",
        "Date:   Wed Mar 22 17:25:30 2023 -0300\n",
        "\n",
        "    primer commit\n",
        "\n",
        "\n",
        "Notamos que el primer cambio fue realizado por mezosky, con comentario asociado al commit \"Se separa en modulos\", el segundo cambio fue realizado por Pablo Badilla con comentario asociado al commit \"fix ifs\" y por último se muestra dos commits hecho por seba en la rama main, los cuales tienen como comentario \"primer commit\" y \"se agrega funcion\". Los commits no son claros respecto a lo hecho, en el caso del primer commit no se especifica qué módulos se crea o bien que partes del proyecto se separa en módulos, para el caso del segundo commit, el comentario \"fix ifs\" no explica claramente los cambios hechos, se pudo haber mencionado cómo se arregló (reemplazándolos, complementándolos, etc)."
      ]
    },
    {
      "cell_type": "markdown",
      "metadata": {
        "cell_id": "d07b24d21f2343fb9a7e6a5db74e98c3",
        "deepnote_cell_type": "markdown",
        "id": "Vqbj9HdXrUnN"
      },
      "source": [
        "5. Uno de los académicos se da cuenta que la rama principal de trabajo no se ejecuta correctamente para todos los argumentos. Señale y explique el error en el código e identifique a la persona que lo cometió usando `git blame` (0.25 pts)\n",
        "\n",
        "*Hint: Le puede ser útil esta [documentación](https://www.atlassian.com/es/git/tutorials/inspecting-a-repository/git-blame).*"
      ]
    },
    {
      "cell_type": "markdown",
      "metadata": {
        "cell_id": "bc5b0f9c639643108f8e66687b721732",
        "deepnote_cell_type": "markdown",
        "id": "5ajhV2Iar3tV"
      },
      "source": [
        "<code>Escriba sus respuestas acá:</code>\n",
        "El error se da en el script \"animales.py\" y fue responsabilidad de mezosky. El error es que los \"if\" de la función \"animales\" están concatenados, en su lugar deberían ser \"elif\" (desde el segundo). Con este cambio, en caso de que el input satisfaga alguno de los condicionales no se seguirá evaluando en los siguientes, de modo que no arrojará error para inputs como \"gato\" o \"perro\", que sí lo hace con la función así escrita."
      ]
    },
    {
      "cell_type": "markdown",
      "metadata": {
        "cell_id": "f3f4e78e6d9145ebbb120c0a2e4aade6",
        "deepnote_cell_type": "markdown",
        "id": "m8J3uE7MhqTA"
      },
      "source": [
        "6. Busque los siguientes `commit`:\n",
        "\n",
        "- `c8b1a62d7299552b0654f930d695b33109214111`\n",
        "- `362fe21ee44f53ee944cee4ba484600308f83d78`\n",
        "- `25543a3baf77292baf849726784ca005473acab1`\n",
        "\n",
        "¿Qué diferencias existen entre cada uno? (0.25 pts)"
      ]
    },
    {
      "cell_type": "markdown",
      "metadata": {
        "cell_id": "696ed361ac0c41c8a214cfad9dcb39e6",
        "deepnote_cell_type": "markdown",
        "id": "sNHnZsgIitGh"
      },
      "source": [
        "<code>Escriba sus respuestas acá:</code>\n",
        "Mediante el comando git diff hash1 hash2 se compara los commits mencionados,\n",
        "\n",
        "Diferencias entre commit 1 y 2:  en el commit 2 se agrega el script \"animales.py\" con la función \"animales\" dentro.\n",
        "\n",
        "Entre commit 2 y 3: en el tercer commit ya no está presente el script \"animales.py\"\n",
        "\n",
        "Entre commit 1 y 3: en el tercer commit se modificó la función \"animales\" en el script \"main.py\", cambiando los \"if\" por \"elif\".\n",
        "\n",
        "Además, el commit c8b1a62d7299552b0654f930d695b33109214111 fue el último que fue realizado para todas las ramas (o que fue realizado antes de la creación de nuevas ramas), mientras que el commit 362fe21ee44f53ee944cee4ba484600308f83d78 se realizó sobre la rama main y new_features, y el commit 25543a3baf77292baf849726784ca005473acab1 se realizó solo sobre la rama fix-ifs."
      ]
    },
    {
      "cell_type": "markdown",
      "metadata": {
        "cell_id": "b4e18f8ce94c430f85915c4e2732d05b",
        "deepnote_cell_type": "markdown",
        "id": "WQIPbfNCgpxC"
      },
      "source": [
        "7. Realice una `merge` de la rama `fix-ifs` con la rama `main` y describa lo que ocurre. ¿Qué parte del código podría estar ocasionando esto? (0.25 pts)"
      ]
    },
    {
      "cell_type": "markdown",
      "metadata": {
        "cell_id": "36da6a0d4f4a427bbccac09e2ae965fd",
        "deepnote_cell_type": "markdown",
        "id": "ypH_6lL5ioZz"
      },
      "source": [
        "<code>Escriba sus respuestas acá:</code>\n",
        "Al ejecutar git merge origin/fix-ifs estando en la rama main, la consola retorna lo siguiente:\n",
        "\n",
        "Auto-merging main.py\n",
        "\n",
        "CONFLICT (content): Merge conflict in main.py\n",
        "\n",
        "Automatic merge failed; fix conflicts and then commit the result.\n",
        "\n",
        "Esto ocurre porque al realizar el merge, se provoca un conflicto en el archivo main.py, ya que en la rama fix-ifs se tenía la función animales(input) en el mismo archivo main.py, mientras que en la rama main se tenía esa función en el archivo animales.py."
      ]
    },
    {
      "cell_type": "markdown",
      "metadata": {
        "cell_id": "09787ab449c543479e5cc54c2a3b6c19",
        "deepnote_cell_type": "markdown",
        "id": "GYfODCjeivkU"
      },
      "source": [
        "8. Cree una rama nueva y proponga una solución al problema anterior, adjuntando el código corregido y señalando las líneas modificadas. (0.25 pts)"
      ]
    },
    {
      "cell_type": "markdown",
      "metadata": {
        "cell_id": "6d963fba3f2d4c17a4b281c7d3f4fb8b",
        "deepnote_cell_type": "markdown",
        "id": "8heBxDU9iziT"
      },
      "source": [
        "<code>Escriba sus respuestas acá:</code>\n",
        "\n",
        "Se crea una rama a partir de la rama main llamada fix/multiple-if-error con los commandos:\n",
        "\n",
        "- git checkout main\n",
        "- git branch fix/multiple-if-error\n",
        "- git checkout fix/multiple-if-error\n",
        "\n",
        "Luego en el archivo animales.py se modifican las lineas 9 y 11, donde se cambian los if por elif, así quedando:\n",
        "\n",
        "7. if input.lower() == 'gato':\n",
        "8. print('miau')\n",
        "9. elif input.lower() == 'perro':\n",
        "10. print('guau')\n",
        "11. elif input.lower() == 'fox':"
      ]
    },
    {
      "cell_type": "markdown",
      "metadata": {
        "cell_id": "8a47d4bf8b3045d68e4f29bb449c87f1",
        "deepnote_cell_type": "markdown",
        "id": "Av8ebB9jkALO"
      },
      "source": [
        "## Fin"
      ]
    },
    {
      "cell_type": "markdown",
      "metadata": {
        "cell_id": "cec4b53942ed489f8f8b63d0e9d4f3e5",
        "deepnote_cell_type": "markdown",
        "id": "aQqZT9fSkBK8"
      },
      "source": [
        "Eso ha sido todo por ahora!! Esperamos que este laboratorio les haya gustado y servido para trabajar con `Git`. Recuerden los dias de plazo que tienen disponibles y que ante cualquier duda no duden en contactar al equipo docente.\n",
        "\n",
        "Nos vemos!!\n",
        "\n",
        "<p align=\"center\">\n",
        "  <img src=\"https://media.tenor.com/OYLdav9k9LkAAAAd/kitty-cat.gif\" width=\"350\">\n",
        "</p>\n"
      ]
    }
  ],
  "metadata": {
    "colab": {
      "provenance": []
    },
    "deepnote_execution_queue": [],
    "deepnote_notebook_id": "62cd20d52b9a4810ada15644630456dc",
    "language_info": {
      "name": "python"
    }
  },
  "nbformat": 4,
  "nbformat_minor": 0
}
